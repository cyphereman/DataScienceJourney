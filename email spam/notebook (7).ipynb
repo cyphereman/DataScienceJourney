{
 "cells": [
  {
   "cell_type": "code",
   "execution_count": 1,
   "id": "52b184f8",
   "metadata": {},
   "outputs": [
    {
     "data": {
      "text/plain": [
       "'\\nCreated on Fri Sep  6 21:13:18 2024\\n\\n@author: cyphereman\\ngithub: https://github.com/cyphereman/\\n\\n'"
      ]
     },
     "execution_count": 1,
     "metadata": {},
     "output_type": "execute_result"
    }
   ],
   "source": [
    "\"\"\"\n",
    "Created on Fri Sep  6 21:13:18 2024\n",
    "\n",
    "@author: cyphereman\n",
    "github: https://github.com/cyphereman/\n",
    "\n",
    "\"\"\""
   ]
  },
  {
   "cell_type": "code",
   "execution_count": 3,
   "id": "b4097860",
   "metadata": {},
   "outputs": [
    {
     "data": {
      "text/html": [
       "<div>\n",
       "<style scoped>\n",
       "    .dataframe tbody tr th:only-of-type {\n",
       "        vertical-align: middle;\n",
       "    }\n",
       "\n",
       "    .dataframe tbody tr th {\n",
       "        vertical-align: top;\n",
       "    }\n",
       "\n",
       "    .dataframe thead th {\n",
       "        text-align: right;\n",
       "    }\n",
       "</style>\n",
       "<table border=\"1\" class=\"dataframe\">\n",
       "  <thead>\n",
       "    <tr style=\"text-align: right;\">\n",
       "      <th></th>\n",
       "      <th>label</th>\n",
       "      <th>text</th>\n",
       "    </tr>\n",
       "  </thead>\n",
       "  <tbody>\n",
       "    <tr>\n",
       "      <th>0</th>\n",
       "      <td>1</td>\n",
       "      <td>ounce feather bowl hummingbird opec moment ala...</td>\n",
       "    </tr>\n",
       "    <tr>\n",
       "      <th>1</th>\n",
       "      <td>1</td>\n",
       "      <td>wulvob get your medircations online qnb ikud v...</td>\n",
       "    </tr>\n",
       "    <tr>\n",
       "      <th>2</th>\n",
       "      <td>0</td>\n",
       "      <td>computer connection from cnn com wednesday es...</td>\n",
       "    </tr>\n",
       "    <tr>\n",
       "      <th>3</th>\n",
       "      <td>1</td>\n",
       "      <td>university degree obtain a prosperous future m...</td>\n",
       "    </tr>\n",
       "    <tr>\n",
       "      <th>4</th>\n",
       "      <td>0</td>\n",
       "      <td>thanks for all your answers guys i know i shou...</td>\n",
       "    </tr>\n",
       "  </tbody>\n",
       "</table>\n",
       "</div>"
      ],
      "text/plain": [
       "   label                                               text\n",
       "0      1  ounce feather bowl hummingbird opec moment ala...\n",
       "1      1  wulvob get your medircations online qnb ikud v...\n",
       "2      0   computer connection from cnn com wednesday es...\n",
       "3      1  university degree obtain a prosperous future m...\n",
       "4      0  thanks for all your answers guys i know i shou..."
      ]
     },
     "execution_count": 3,
     "metadata": {},
     "output_type": "execute_result"
    }
   ],
   "source": [
    "\"\"\"Step 1: Collect Data Set\"\"\"\n",
    "\n",
    "import pandas as pd\n",
    "# Load the dataset provided sourced from Kaggle @ https://www.kaggle.com/datasets/purusinghvi/email-spam-classification-dataset\n",
    "\n",
    "file_path = 'data/combined_data.csv'\n",
    "df = pd.read_csv(file_path)\n",
    "\n",
    "# Display the first few rows of the dataset to understand its structure\n",
    "df.head()"
   ]
  },
  {
   "cell_type": "code",
   "execution_count": 5,
   "id": "94dbde66",
   "metadata": {},
   "outputs": [
    {
     "name": "stdout",
     "output_type": "stream",
     "text": [
      "   label                                               text  \\\n",
      "0      1  ounce feather bowl hummingbird opec moment ala...   \n",
      "1      1  wulvob get your medircations online qnb ikud v...   \n",
      "2      0   computer connection from cnn com wednesday es...   \n",
      "3      1  university degree obtain a prosperous future m...   \n",
      "4      0  thanks for all your answers guys i know i shou...   \n",
      "\n",
      "                                      processed_text  \n",
      "0  ounc feather bowl hummingbird opec moment alab...  \n",
      "1  wulvob get medirc onlin qnb ikud viagra escape...  \n",
      "2  comput connect cnn com wednesday escapenumb ma...  \n",
      "3  univers degre obtain prosper futur money earn ...  \n",
      "4  thank answer guy know check rsync manual would...  \n"
     ]
    }
   ],
   "source": [
    "\"\"\"Step2: Preprocessing \"\"\"\n",
    "\n",
    "import string\n",
    "import nltk\n",
    "from nltk.corpus import stopwords\n",
    "from nltk.stem import PorterStemmer, WordNetLemmatizer\n",
    "\n",
    "\n",
    "# Initialize stopwords, stemmer, and lemmatizer\n",
    "#nltk.download('stopwords')\n",
    "#nltk.download('wordnet')\n",
    "stop_words = set(stopwords.words('english'))\n",
    "stemmer = PorterStemmer()\n",
    "lemmatizer = WordNetLemmatizer()\n",
    "\n",
    "# Function for preprocessing using stopwords, stemming, and lemmatization\n",
    "def preprocess_text_advanced(text):\n",
    "    # Convert to lowercase\n",
    "    text = text.lower()\n",
    "    \n",
    "    # Remove punctuation\n",
    "    text = text.translate(str.maketrans('', '', string.punctuation))\n",
    "    \n",
    "    # Tokenize the text into words\n",
    "    words = text.split()\n",
    "    \n",
    "    # Remove stopwords\n",
    "    words = [word for word in words if word not in stop_words]\n",
    "    \n",
    "    # Apply stemming and lemmatization\n",
    "    words = [stemmer.stem(lemmatizer.lemmatize(word)) for word in words]\n",
    "    \n",
    "    # Join the words back into a single string\n",
    "    return ' '.join(words)\n",
    "\n",
    "# Apply the advanced preprocessing function to the 'processed_text' column\n",
    "df['processed_text'] = df['text'].apply(preprocess_text_advanced)\n",
    "\n",
    "# Display the preprocessed dataset\n",
    "# Corrected code for displaying without ace_tools\n",
    "\n",
    "# Apply the advanced preprocessing function to the 'processed_text' column\n",
    "df['processed_text'] = df['text'].apply(preprocess_text_advanced)\n",
    "\n",
    "# Display the first few rows of the preprocessed dataset\n",
    "print(df.head())"
   ]
  },
  {
   "cell_type": "code",
   "execution_count": 6,
   "id": "d5649047",
   "metadata": {},
   "outputs": [
    {
     "name": "stdout",
     "output_type": "stream",
     "text": [
      "Feature matrix shape: (83448, 268077)\n",
      "TF-IDF feature matrix shape: (83448, 268077)\n"
     ]
    }
   ],
   "source": [
    "\"\"\"Step 3:Feature Extraction\"\"\"\n",
    "\n",
    "#Using Bag of Words with CountVectorizer\n",
    "from sklearn.feature_extraction.text import CountVectorizer\n",
    "\n",
    "# Initialize the CountVectorizer\n",
    "vectorizer = CountVectorizer()\n",
    "\n",
    "# Fit the vectorizer to the data and transform the text into feature vectors\n",
    "X = vectorizer.fit_transform(df['processed_text'])\n",
    "\n",
    "# Extract the labels\n",
    "y = df['label']\n",
    "\n",
    "# Display the shape of the feature matrix\n",
    "print(f\"Feature matrix shape: {X.shape}\")\n",
    "\n",
    "#Using TF-IDF with TfidfVectorizer\n",
    "from sklearn.feature_extraction.text import TfidfVectorizer\n",
    "\n",
    "# Initialize the TfidfVectorizer\n",
    "tfidf_vectorizer = TfidfVectorizer()\n",
    "\n",
    "# Fit the vectorizer to the data and transform the text into TF-IDF features\n",
    "X_tfidf = tfidf_vectorizer.fit_transform(df['processed_text'])\n",
    "\n",
    "# Labels remain the same\n",
    "y = df['label']\n",
    "\n",
    "# Display the shape of the TF-IDF feature matrix\n",
    "print(f\"TF-IDF feature matrix shape: {X_tfidf.shape}\")\n"
   ]
  },
  {
   "cell_type": "code",
   "execution_count": 10,
   "id": "ea9c4b4d",
   "metadata": {},
   "outputs": [
    {
     "name": "stdout",
     "output_type": "stream",
     "text": [
      "New feature matrix shape after selection: (83448, 1000)\n"
     ]
    }
   ],
   "source": [
    "\"\"\"Step 4: Feature Selection\"\"\"\n",
    "#Using Chi-Squared Test for Feature Selection\n",
    "\n",
    "from sklearn.feature_selection import SelectKBest, chi2\n",
    "\n",
    "# Choose the number of top features you want to select\n",
    "k = 1000  # You can adjust this number based on your needs\n",
    "\n",
    "# Apply Chi-Squared feature selection\n",
    "selector = SelectKBest(chi2, k=k)\n",
    "X_new = selector.fit_transform(X, y)\n",
    "\n",
    "# If using TF-IDF features\n",
    "X_tfidf_new = selector.fit_transform(X_tfidf, y)\n",
    "\n",
    "# Display the new shape after feature selection\n",
    "print(f\"New feature matrix shape after selection: {X_new.shape}\")"
   ]
  },
  {
   "cell_type": "code",
   "execution_count": 11,
   "id": "4e6bbbc3",
   "metadata": {},
   "outputs": [],
   "source": [
    "\"\"\"Step 5: Splitting the Data into Training(70%) and Testing(30%) Sets\"\"\"\n",
    "#train_test_split splits the data into training and testing sets.\n",
    "#test_size=0.3 indicates 30% of the data is used for testing.\n",
    "#random_state=42 ensures reproducibility.\n",
    "\n",
    "from sklearn.model_selection import train_test_split\n",
    "\n",
    "# For CountVectorizer features\n",
    "X_train, X_test, y_train, y_test = train_test_split(X_new, y, test_size=0.3, random_state=42)\n",
    "\n",
    "# For TF-IDF features\n",
    "X_tfidf_train, X_tfidf_test, y_train, y_test = train_test_split(X_tfidf_new, y, test_size=0.3, random_state=42)"
   ]
  },
  {
   "cell_type": "code",
   "execution_count": 12,
   "id": "648e0e1c",
   "metadata": {},
   "outputs": [
    {
     "data": {
      "text/plain": [
       "'Multinomial Naive Bayes and Decision Tree models have been successfully trained.'"
      ]
     },
     "execution_count": 12,
     "metadata": {},
     "output_type": "execute_result"
    }
   ],
   "source": [
    "\"\"\"Step 6: Train the models (Multinomial Naive Byes and Decision Tree)\"\"\"\n",
    "\n",
    "# Import necessary libraries for model training\n",
    "from sklearn.naive_bayes import MultinomialNB\n",
    "from sklearn.tree import DecisionTreeClassifier\n",
    "\n",
    "# Train a Multinomial Naive Bayes model on the CountVectorizer features\n",
    "mnb_model = MultinomialNB()\n",
    "mnb_model.fit(X_train, y_train)\n",
    "\n",
    "# Train a Decision Tree Classifier on the CountVectorizer features\n",
    "dt_model = DecisionTreeClassifier(random_state=42)\n",
    "dt_model.fit(X_train, y_train)\n",
    "\n",
    "# Output confirmation of model training completion\n",
    "\"Multinomial Naive Bayes and Decision Tree models have been successfully trained.\"\n"
   ]
  },
  {
   "cell_type": "code",
   "execution_count": 13,
   "id": "885c2e4e",
   "metadata": {},
   "outputs": [
    {
     "data": {
      "text/plain": [
       "'Predictions made using both Multinomial Naive Bayes and Decision Tree Classifier models.'"
      ]
     },
     "execution_count": 13,
     "metadata": {},
     "output_type": "execute_result"
    }
   ],
   "source": [
    "\"\"\"Step 7: Make Predictions\"\"\"\n",
    "\n",
    "# Making predictions on the test set using both models\n",
    "\n",
    "# Predictions with Multinomial Naive Bayes\n",
    "mnb_predictions = mnb_model.predict(X_test)\n",
    "\n",
    "# Predictions with Decision Tree Classifier\n",
    "dt_predictions = dt_model.predict(X_test)\n",
    "\n",
    "# Output confirmation of predictions\n",
    "\"Predictions made using both Multinomial Naive Bayes and Decision Tree Classifier models.\""
   ]
  },
  {
   "cell_type": "code",
   "execution_count": 14,
   "id": "84cc636e",
   "metadata": {},
   "outputs": [
    {
     "data": {
      "text/plain": [
       "{'Multinomial Naive Bayes': {'Accuracy': 0.920511284202117,\n",
       "  'Confusion Matrix': array([[11479,   339],\n",
       "         [ 1651, 11566]], dtype=int64),\n",
       "  'Classification Report': '              precision    recall  f1-score   support\\n\\n           0       0.87      0.97      0.92     11818\\n           1       0.97      0.88      0.92     13217\\n\\n    accuracy                           0.92     25035\\n   macro avg       0.92      0.92      0.92     25035\\nweighted avg       0.93      0.92      0.92     25035\\n'},\n",
       " 'Decision Tree Classifier': {'Accuracy': 0.9516676652686239,\n",
       "  'Confusion Matrix': array([[11239,   579],\n",
       "         [  631, 12586]], dtype=int64),\n",
       "  'Classification Report': '              precision    recall  f1-score   support\\n\\n           0       0.95      0.95      0.95     11818\\n           1       0.96      0.95      0.95     13217\\n\\n    accuracy                           0.95     25035\\n   macro avg       0.95      0.95      0.95     25035\\nweighted avg       0.95      0.95      0.95     25035\\n'}}"
      ]
     },
     "execution_count": 14,
     "metadata": {},
     "output_type": "execute_result"
    }
   ],
   "source": [
    "\"\"\"Step 8: Model Evaluation\"\"\"\n",
    "\n",
    "# Importing libraries for evaluation\n",
    "from sklearn.metrics import accuracy_score, confusion_matrix, classification_report\n",
    "\n",
    "# Evaluate Multinomial Naive Bayes model\n",
    "mnb_accuracy = accuracy_score(y_test, mnb_predictions)\n",
    "mnb_confusion = confusion_matrix(y_test, mnb_predictions)\n",
    "mnb_classification_report = classification_report(y_test, mnb_predictions)\n",
    "\n",
    "# Evaluate Decision Tree model\n",
    "dt_accuracy = accuracy_score(y_test, dt_predictions)\n",
    "dt_confusion = confusion_matrix(y_test, dt_predictions)\n",
    "dt_classification_report = classification_report(y_test, dt_predictions)\n",
    "\n",
    "# Output the evaluation results\n",
    "evaluation_results = {\n",
    "    \"Multinomial Naive Bayes\": {\n",
    "        \"Accuracy\": mnb_accuracy,\n",
    "        \"Confusion Matrix\": mnb_confusion,\n",
    "        \"Classification Report\": mnb_classification_report\n",
    "    },\n",
    "    \"Decision Tree Classifier\": {\n",
    "        \"Accuracy\": dt_accuracy,\n",
    "        \"Confusion Matrix\": dt_confusion,\n",
    "        \"Classification Report\": dt_classification_report\n",
    "    }\n",
    "}\n",
    "\n",
    "evaluation_results"
   ]
  },
  {
   "cell_type": "code",
   "execution_count": 15,
   "id": "f839abf1",
   "metadata": {},
   "outputs": [
    {
     "name": "stdout",
     "output_type": "stream",
     "text": [
      "Multinomial Naive Bayes - Accuracy: 0.920511284202117\n",
      "Confusion Matrix:\n",
      " [[11479   339]\n",
      " [ 1651 11566]]\n",
      "Classification Report:\n",
      "               precision    recall  f1-score   support\n",
      "\n",
      "           0       0.87      0.97      0.92     11818\n",
      "           1       0.97      0.88      0.92     13217\n",
      "\n",
      "    accuracy                           0.92     25035\n",
      "   macro avg       0.92      0.92      0.92     25035\n",
      "weighted avg       0.93      0.92      0.92     25035\n",
      "\n"
     ]
    }
   ],
   "source": [
    "# Evaluate Multinomial Naive Bayes model\n",
    "mnb_accuracy = accuracy_score(y_test, mnb_predictions)\n",
    "mnb_confusion = confusion_matrix(y_test, mnb_predictions)\n",
    "mnb_classification_report = classification_report(y_test, mnb_predictions)\n",
    "\n",
    "print(\"Multinomial Naive Bayes - Accuracy:\", mnb_accuracy)\n",
    "print(\"Confusion Matrix:\\n\", mnb_confusion)\n",
    "print(\"Classification Report:\\n\", mnb_classification_report)"
   ]
  },
  {
   "cell_type": "code",
   "execution_count": 16,
   "id": "87f181b8",
   "metadata": {},
   "outputs": [
    {
     "name": "stdout",
     "output_type": "stream",
     "text": [
      "Decision Tree Classifier - Accuracy: 0.9516676652686239\n",
      "Confusion Matrix:\n",
      " [[11239   579]\n",
      " [  631 12586]]\n",
      "Classification Report:\n",
      "               precision    recall  f1-score   support\n",
      "\n",
      "           0       0.95      0.95      0.95     11818\n",
      "           1       0.96      0.95      0.95     13217\n",
      "\n",
      "    accuracy                           0.95     25035\n",
      "   macro avg       0.95      0.95      0.95     25035\n",
      "weighted avg       0.95      0.95      0.95     25035\n",
      "\n"
     ]
    }
   ],
   "source": [
    "# Evaluate Decision Tree Classifier model\n",
    "dt_accuracy = accuracy_score(y_test, dt_predictions)\n",
    "dt_confusion = confusion_matrix(y_test, dt_predictions)\n",
    "dt_classification_report = classification_report(y_test, dt_predictions)\n",
    "\n",
    "print(\"Decision Tree Classifier - Accuracy:\", dt_accuracy)\n",
    "print(\"Confusion Matrix:\\n\", dt_confusion)\n",
    "print(\"Classification Report:\\n\", dt_classification_report)\n"
   ]
  },
  {
   "cell_type": "code",
   "execution_count": null,
   "id": "d7a7dcaf",
   "metadata": {},
   "outputs": [],
   "source": []
  }
 ],
 "metadata": {
  "kernelspec": {
   "display_name": "Python 3 (ipykernel)",
   "language": "python",
   "name": "python3"
  },
  "language_info": {
   "codemirror_mode": {
    "name": "ipython",
    "version": 3
   },
   "file_extension": ".py",
   "mimetype": "text/x-python",
   "name": "python",
   "nbconvert_exporter": "python",
   "pygments_lexer": "ipython3",
   "version": "3.11.7"
  }
 },
 "nbformat": 4,
 "nbformat_minor": 5
}
